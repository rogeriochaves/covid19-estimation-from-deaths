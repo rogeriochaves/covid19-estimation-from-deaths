{
 "cells": [
  {
   "cell_type": "code",
   "execution_count": 18,
   "metadata": {},
   "outputs": [],
   "source": [
    "import pymc3 as pm\n",
    "import matplotlib.pyplot as plt\n",
    "import numpy as np\n",
    "import pandas as pd\n",
    "import math"
   ]
  },
  {
   "cell_type": "code",
   "execution_count": 22,
   "metadata": {},
   "outputs": [],
   "source": [
    "df = pd.read_csv(\"bno_cases_data.csv\")\n",
    "df.head()\n",
    "simulations = 1000\n",
    "bins = 100"
   ]
  },
  {
   "cell_type": "code",
   "execution_count": 23,
   "metadata": {},
   "outputs": [
    {
     "data": {
      "image/png": "[encoded data removed]",
      "text/plain": [
       "<Figure size 432x288 with 1 Axes>"
      ]
     },
     "metadata": {
      "needs_background": "light"
     },
     "output_type": "display_data"
    }
   ],
   "source": [
    "mean = math.log(4.7)\n",
    "sd = math.log(2.9)\n",
    "serial_interval = np.random.lognormal(mean, sd, simulations)\n",
    "\n",
    "plt.hist(serial_interval, bins=bins)\n",
    "plt.title(\"Serial Interval\");"
   ]
  },
  {
   "cell_type": "code",
   "execution_count": 29,
   "metadata": {},
   "outputs": [
    {
     "data": {
      "image/png": "[encoded data removed]",
      "text/plain": [
       "<Figure size 432x288 with 1 Axes>"
      ]
     },
     "metadata": {
      "needs_background": "light"
     },
     "output_type": "display_data"
    }
   ],
   "source": [
    "shape = 4.726\n",
    "rate = 0.3151\n",
    "onset_to_death = np.random.gamma(shape, rate, simulations) * 10\n",
    "\n",
    "plt.hist(onset_to_death, bins=bins)\n",
    "plt.title(\"Onset to Death\");"
   ]
  },
  {
   "cell_type": "code",
   "execution_count": 25,
   "metadata": {},
   "outputs": [
    {
     "data": {
      "image/png": "[encoded data removed]",
      "text/plain": [
       "<Figure size 432x288 with 1 Axes>"
      ]
     },
     "metadata": {
      "needs_background": "light"
     },
     "output_type": "display_data"
    }
   ],
   "source": [
    "case_fatality_ratio = 0.02\n",
    "cases_per_death = np.random.geometric(case_fatality_ratio, simulations)\n",
    "\n",
    "plt.hist(cases_per_death, bins=bins)\n",
    "plt.title(\"Cases per Death\");"
   ]
  },
  {
   "cell_type": "code",
   "execution_count": 58,
   "metadata": {},
   "outputs": [
    {
     "name": "stdout",
     "output_type": "stream",
     "text": [
      "n_cases_per_death 19\n",
      "probable_days_ago_onset 14\n"
     ]
    }
   ],
   "source": [
    "# Example a single death\n",
    "death = \"2020-03-24\"\n",
    "\n",
    "n_cases_per_death = np.random.geometric(case_fatality_ratio)\n",
    "print(\"n_cases_per_death\", n_cases_per_death)\n",
    "\n",
    "probable_days_ago_onset = int(np.random.gamma(shape, rate) * 10)\n",
    "print(\"probable_days_ago_onset\", probable_days_ago_onset)\n",
    "\n",
    "sim_onset <- date_death - 14 * n_cases_per_death"
   ]
  },
  {
   "cell_type": "code",
   "execution_count": 38,
   "metadata": {},
   "outputs": [
    {
     "ename": "SyntaxError",
     "evalue": "invalid syntax (<ipython-input-38-4ea1a310f529>, line 6)",
     "output_type": "error",
     "traceback": [
      "\u001b[0;36m  File \u001b[0;32m\"<ipython-input-38-4ea1a310f529>\"\u001b[0;36m, line \u001b[0;32m6\u001b[0m\n\u001b[0;31m    dice_observed = pm.Bernoulli('dice_observed', chance_of_6, observed=)\u001b[0m\n\u001b[0m                                                                        ^\u001b[0m\n\u001b[0;31mSyntaxError\u001b[0m\u001b[0;31m:\u001b[0m invalid syntax\n"
     ]
    }
   ],
   "source": [
    "num_deaths = 2\n",
    "reproduction_number = 3\n",
    "\n",
    "with pm.Model():\n",
    "    chance_of_6 = pm.Uniform('chance_of_6', lower=0, upper=1)\n",
    "    dice_observed = pm.Bernoulli('dice_observed', chance_of_6, observed=)\n",
    "    trace = pm.sample(1000)"
   ]
  },
  {
   "cell_type": "code",
   "execution_count": null,
   "metadata": {},
   "outputs": [],
   "source": []
  }
 ],
 "metadata": {
  "kernelspec": {
   "display_name": "Python 3",
   "language": "python",
   "name": "python3"
  },
  "language_info": {
   "codemirror_mode": {
    "name": "ipython",
    "version": 3
   },
   "file_extension": ".py",
   "mimetype": "text/x-python",
   "name": "python",
   "nbconvert_exporter": "python",
   "pygments_lexer": "ipython3",
   "version": "3.6.6"
  }
 },
 "nbformat": 4,
 "nbformat_minor": 2
}
